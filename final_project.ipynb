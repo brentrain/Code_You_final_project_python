{
 "cells": [
  {
   "cell_type": "markdown",
   "metadata": {},
   "source": [
    "### Main Menu ###"
   ]
  },
  {
   "cell_type": "code",
   "execution_count": null,
   "metadata": {},
   "outputs": [],
   "source": [
    "if __name__ == \"__main__\":\n",
    "    transactions = []\n",
    "    while True:\n",
    "        print(\"\\nSmart Personal Finance Analyzer\")\n",
    "        print(\"1. Load Transactions\")\n",
    "        print(\"2. Add Transaction\")\n",
    "        print(\"3. View Transactions\")\n",
    "        print(\"4. Update Transaction\")\n",
    "        print(\"5. Delete Transaction\")\n",
    "        print(\"6. Analyze Finances\")\n",
    "        print(\"7. Save Transactions\")\n",
    "        print(\"8. Generate Report\")\n",
    "        print(\"9. Exit\")\n",
    "        choice = input(\"Select an option: \")\n",
    "        # Call functions based on choice\n",
    "        if choice==1:\n",
    "            load_transaction(transactions)\n",
    "        elif choice==2:\n",
    "            add_transaction(transactions)\n",
    "        elif choice==3:\n",
    "            view_transaction(transactions)\n",
    "        elif choice==4:\n",
    "            update_transaction(transactions)\n",
    "        elif choice==5:\n",
    "            delete_transaction(transactions)\n",
    "        elif choice==6:\n",
    "            analyze_finances(transactions)\n",
    "        elif choice==7:\n",
    "            save_transactions(transactions)\n",
    "        elif choice==8:\n",
    "            generate_report(transactions)\n",
    "        else:\n",
    "            print(\"Invalid choice. Please try again.\")\n",
    "        if choice == '9':\n",
    "            break"
   ]
  },
  {
   "cell_type": "markdown",
   "metadata": {},
   "source": [
    "### Load Transaction from a .CSV file ###"
   ]
  },
  {
   "cell_type": "code",
   "execution_count": null,
   "metadata": {},
   "outputs": [],
   "source": [
    "import csv\n",
    "from datetime import datetime\n",
    "\n",
    "def load_transaction(transactions):\n",
    "    try:\n",
    "        with open('financial_transactions.csv', 'r') as file:\n",
    "            csv_reader = csv.DictReader(file)\n",
    "            for row in csv_reader:\n",
    "                transactions.append(row)\n",
    "    except FileNotFoundError:\n",
    "        print(\"File not found. Please save transactions first.\")\n",
    "with open('financial_transactions.csv','r') as file:\n",
    "    csv.reader = csv.DictReader(file)\n",
    "    header = next(csv.reader)\n",
    "    print(\"header:\", header)\n",
    "    for row in csv.reader:\n",
    "        print(\"row:\", row)"
   ]
  },
  {
   "cell_type": "markdown",
   "metadata": {},
   "source": [
    "### Adding and Transaction ###"
   ]
  },
  {
   "cell_type": "code",
   "execution_count": null,
   "metadata": {},
   "outputs": [],
   "source": [
    "def add_transaction(transactions, date, amount, description):\n",
    "    \"\"\"Add a new transaction from user input.\"\"\"\n",
    "    # Prompt for date, customer_id, amount, type, description\n",
    "    transaction_date = input(\"Enter transaction date (YYYY-MM-DD): \")\n",
    "    transaction_amount = float(input(\"Enter transaction amount: \"))\n",
    "    transaction_type = input(\"Enter transaction type (credit/debit): \")\n",
    "    transaction_description = input(\"Enter transaction description: \")\n",
    "    # Validate date, amount, type\n",
    "    if not transaction_date or not transaction_amount or not transaction_type:\n",
    "        print(\"Invalid input. Please try again.\")\n",
    "        return\n",
    "    # Generate new transaction_id\n",
    "    transaction_id = len(transactions) + 1\n",
    "    # Create dictionary and append  \n",
    "    pass   "
   ]
  },
  {
   "cell_type": "markdown",
   "metadata": {},
   "source": [
    "### View a Transaction ###"
   ]
  },
  {
   "cell_type": "markdown",
   "metadata": {},
   "source": [
    "###  Update a Transaction ###"
   ]
  },
  {
   "cell_type": "markdown",
   "metadata": {},
   "source": [
    "### Delete A Transaction ###"
   ]
  }
 ],
 "metadata": {
  "kernelspec": {
   "display_name": "Python 3",
   "language": "python",
   "name": "python3"
  },
  "language_info": {
   "codemirror_mode": {
    "name": "ipython",
    "version": 3
   },
   "file_extension": ".py",
   "mimetype": "text/x-python",
   "name": "python",
   "nbconvert_exporter": "python",
   "pygments_lexer": "ipython3",
   "version": "3.9.6"
  }
 },
 "nbformat": 4,
 "nbformat_minor": 2
}
